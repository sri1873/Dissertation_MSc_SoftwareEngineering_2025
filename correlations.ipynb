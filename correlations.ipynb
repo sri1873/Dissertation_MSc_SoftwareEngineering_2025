{
 "cells": [
  {
   "cell_type": "code",
   "execution_count": 2,
   "id": "ba6a565e",
   "metadata": {},
   "outputs": [],
   "source": [
    "import math\n",
    "import numpy as np\n",
    "from scipy.stats import spearmanr, pearsonr  "
   ]
  },
  {
   "cell_type": "code",
   "execution_count": 3,
   "id": "08619fa8",
   "metadata": {},
   "outputs": [],
   "source": [
    "\n",
    "systems = [\"TrainTicket\", \"MicroserviceConsul\", \"TMS2020\"]\n",
    "\n",
    "coupling    = {\"TrainTicket\": 8.5, \"MicroserviceConsul\": 10.0, \"TMS2020\": 6.1}\n",
    "granularity = {\"TrainTicket\": 0.3, \"MicroserviceConsul\": 7.2, \"TMS2020\": 8.9}\n",
    "cohesion    = {\"TrainTicket\": 1.2, \"MicroserviceConsul\": 9.3, \"TMS2020\": 4.8}\n",
    "\n",
    "\n",
    "chatty      = {\"TrainTicket\": 18, \"MicroserviceConsul\": 0, \"TMS2020\": 1}\n",
    "overloaded  = {\"TrainTicket\": 13, \"MicroserviceConsul\": 0, \"TMS2020\": 2}\n",
    "control     = {\"TrainTicket\":  6, \"MicroserviceConsul\": 0, \"TMS2020\": 1}\n",
    "intimacy    = {\"TrainTicket\":  8, \"MicroserviceConsul\": 0, \"TMS2020\": 1}\n",
    "\n",
    "\n",
    "n_services  = {\"TrainTicket\": 42, \"MicroserviceConsul\": 3, \"TMS2020\": 4}"
   ]
  },
  {
   "cell_type": "code",
   "execution_count": 4,
   "id": "f8b2977a",
   "metadata": {},
   "outputs": [
    {
     "name": "stdout",
     "output_type": "stream",
     "text": [
      "Spearman ρ (metrics × smells):\n",
      "{'Metric': 'Granularity', 'Chatty': -0.5, 'Overloaded': 0.5, 'Control': 0.5, 'Intimacy': 0.5}\n",
      "{'Metric': 'Coupling', 'Chatty': -0.5, 'Overloaded': -1.0, 'Control': -1.0, 'Intimacy': -1.0}\n",
      "{'Metric': 'Cohesion', 'Chatty': -1.0, 'Overloaded': -0.5, 'Control': -0.5, 'Intimacy': -0.5}\n",
      "\n",
      "Pearson r (metrics × smells):\n",
      "{'Metric': 'Granularity', 'Chatty': -0.656, 'Overloaded': -0.001, 'Control': 0.075, 'Intimacy': -0.126}\n",
      "{'Metric': 'Coupling', 'Chatty': -0.51, 'Overloaded': -0.949, 'Control': -0.97, 'Intimacy': -0.902}\n",
      "{'Metric': 'Cohesion', 'Chatty': -0.997, 'Overloaded': -0.7, 'Control': -0.645, 'Intimacy': -0.784}\n"
     ]
    }
   ],
   "source": [
    "def vec(d): \n",
    "    return np.array([d[s] for s in systems], dtype=float)\n",
    "\n",
    "def log1p_rate(counts):    \n",
    "    return np.log1p(vec({k: counts[k] / max(n_services[k], 1) for k in systems}))\n",
    "\n",
    "metrics = {\n",
    "    \"Granularity\": vec(granularity),\n",
    "    \"Coupling\":    vec(coupling),\n",
    "    \"Cohesion\":    vec(cohesion),\n",
    "}\n",
    "\n",
    "smells= {\n",
    "    \"Chatty\":     log1p_rate(chatty),\n",
    "    \"Overloaded\": log1p_rate(overloaded),\n",
    "    \"Control\":    log1p_rate(control),\n",
    "    \"Intimacy\":   log1p_rate(intimacy),\n",
    "}\n",
    "\n",
    "\n",
    "rows = []\n",
    "for m_name, m_vals in metrics.items():\n",
    "    row_s, row_p = {\"Metric\": m_name}, {\"Metric\": m_name}\n",
    "    for s_name, s_vals in smells.items():\n",
    "        rho, _ = spearmanr(m_vals, s_vals)\n",
    "        r,   _ = pearsonr(m_vals, s_vals)\n",
    "        row_s[s_name] = round(rho, 3)\n",
    "        row_p[s_name] = round(r, 3)\n",
    "    rows.append((row_s, row_p))\n",
    "\n",
    "print(\"Spearman ρ (metrics × smells):\")\n",
    "for r,_ in rows: print(r)\n",
    "print(\"\\nPearson r (metrics × smells):\")\n",
    "for _,r in rows: print(r)\n"
   ]
  }
 ],
 "metadata": {
  "kernelspec": {
   "display_name": "Python 3",
   "language": "python",
   "name": "python3"
  },
  "language_info": {
   "codemirror_mode": {
    "name": "ipython",
    "version": 3
   },
   "file_extension": ".py",
   "mimetype": "text/x-python",
   "name": "python",
   "nbconvert_exporter": "python",
   "pygments_lexer": "ipython3",
   "version": "3.12.0"
  }
 },
 "nbformat": 4,
 "nbformat_minor": 5
}
